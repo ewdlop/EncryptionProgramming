{
 "cells": [
  {
   "cell_type": "code",
   "execution_count": null,
   "metadata": {},
   "outputs": [],
   "source": [
    "# 示例簡單的語義替換字典\n",
    "semantic_dict = {\n",
    "    'hello': 'greetings',\n",
    "    'world': 'earth',\n",
    "    'test': 'exam',\n",
    "    'example': 'sample',\n",
    "    'encryption': 'cipher',\n",
    "    'decryption': 'decipher'\n",
    "}\n",
    "\n",
    "def encrypt_semantic(text):\n",
    "    words = text.split()\n",
    "    encrypted_text = ' '.join([semantic_dict.get(word, word) for word in words])\n",
    "    return encrypted_text\n",
    "\n",
    "def decrypt_semantic(encrypted_text):\n",
    "    reverse_semantic_dict = {v: k for k, v in semantic_dict.items()}\n",
    "    words = encrypted_text.split()\n",
    "    decrypted_text = ' '.join([reverse_semantic_dict.get(word, word) for word in words])\n",
    "    return decrypted_text\n",
    "\n",
    "# 示例文本\n",
    "text = \"hello world, this is an example of encryption and decryption test.\"\n",
    "\n",
    "# 加密\n",
    "encrypted_text = encrypt_semantic(text)\n",
    "print(f\"Semantic Encryption: {encrypted_text}\")\n",
    "\n",
    "# 解密\n",
    "decrypted_text = decrypt_semantic(encrypted_text)\n",
    "print(f\"Semantic Decryption: {decrypted_text}\")\n"
   ]
  }
 ],
 "metadata": {
  "language_info": {
   "name": "python"
  }
 },
 "nbformat": 4,
 "nbformat_minor": 2
}

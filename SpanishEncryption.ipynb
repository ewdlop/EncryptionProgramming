{
 "cells": [
  {
   "cell_type": "code",
   "execution_count": null,
   "metadata": {},
   "outputs": [],
   "source": [
    "# Implementing a simple substitution cipher for Spanish text\n",
    "\n",
    "# Define the substitution dictionary\n",
    "substitution_dict = {\n",
    "    'a': 'm', 'b': 'n', 'c': 'b', 'd': 'v', 'e': 'c', 'f': 'x', 'g': 'z', 'h': 'a', 'i': 's', 'j': 'd',\n",
    "    'k': 'f', 'l': 'g', 'm': 'h', 'n': 'j', 'o': 'k', 'p': 'l', 'q': 'p', 'r': 'o', 's': 'i', 't': 'u',\n",
    "    'u': 'y', 'v': 't', 'w': 'r', 'x': 'e', 'y': 'w', 'z': 'q', 'á': 'é', 'é': 'í', 'í': 'ó', 'ó': 'ú',\n",
    "    'ú': 'á', 'ñ': 'ü', 'ü': 'ñ', 'A': 'M', 'B': 'N', 'C': 'B', 'D': 'V', 'E': 'C', 'F': 'X', 'G': 'Z',\n",
    "    'H': 'A', 'I': 'S', 'J': 'D', 'K': 'F', 'L': 'G', 'M': 'H', 'N': 'J', 'O': 'K', 'P': 'L', 'Q': 'P',\n",
    "    'R': 'O', 'S': 'I', 'T': 'U', 'U': 'Y', 'V': 'T', 'W': 'R', 'X': 'E', 'Y': 'W', 'Z': 'Q', 'Á': 'É',\n",
    "    'É': 'Í', 'Í': 'Ó', 'Ó': 'Ú', 'Ú': 'Á', 'Ñ': 'Ü', 'Ü': 'Ñ'\n",
    "}\n",
    "\n",
    "def encrypt(text):\n",
    "    encrypted_text = ''.join([substitution_dict.get(char, char) for char in text])\n",
    "    return encrypted_text\n",
    "\n",
    "def decrypt(encrypted_text):\n",
    "    reverse_substitution_dict = {v: k for k, v in substitution_dict.items()}\n",
    "    decrypted_text = ''.join([reverse_substitution_dict.get(char, char) for char in encrypted_text])\n",
    "    return decrypted_text\n",
    "\n",
    "# Examples and test cases\n",
    "text = \"Hola, ¿cómo estás?\"\n",
    "encrypted_text = encrypt(text)\n",
    "print(f\"Encrypted: {encrypted_text}\")\n",
    "\n",
    "decrypted_text = decrypt(encrypted_text)\n",
    "print(f\"Decrypted: {decrypted_text}\")\n"
   ]
  }
 ],
 "metadata": {
  "language_info": {
   "name": "python"
  }
 },
 "nbformat": 4,
 "nbformat_minor": 2
}

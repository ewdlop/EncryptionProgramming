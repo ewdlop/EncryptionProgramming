{
  "nbformat": 4,
  "nbformat_minor": 0,
  "metadata": {
    "colab": {
      "provenance": [],
      "authorship_tag": "ABX9TyOHA0ZfdRZ/Z+J2z8HRxi5a",
      "include_colab_link": true
    },
    "kernelspec": {
      "name": "python3",
      "display_name": "Python 3"
    },
    "language_info": {
      "name": "python"
    }
  },
  "cells": [
    {
      "cell_type": "markdown",
      "metadata": {
        "id": "view-in-github",
        "colab_type": "text"
      },
      "source": [
        "<a href=\"https://colab.research.google.com/github/ewdlop/Secret/blob/main/SecretMessage.ipynb\" target=\"_parent\"><img src=\"https://colab.research.google.com/assets/colab-badge.svg\" alt=\"Open In Colab\"/></a>"
      ]
    },
    {
      "cell_type": "code",
      "execution_count": 1,
      "metadata": {
        "colab": {
          "base_uri": "https://localhost:8080/"
        },
        "id": "7EJI9NxRGusQ",
        "outputId": "aaeaec27-77e8-476a-dac4-c8b14409e029"
      },
      "outputs": [
        {
          "output_type": "stream",
          "name": "stdout",
          "text": [
            "Requirement already satisfied: Pillow in /usr/local/lib/python3.10/dist-packages (10.2.0)\n",
            "Requirement already satisfied: pycryptodome in /usr/local/lib/python3.10/dist-packages (3.20.0)\n",
            "Requirement already satisfied: stegano in /usr/local/lib/python3.10/dist-packages (0.11.3)\n",
            "Requirement already satisfied: crayons<0.5.0,>=0.4.0 in /usr/local/lib/python3.10/dist-packages (from stegano) (0.4.0)\n",
            "Requirement already satisfied: opencv-python<5.0.0.0,>=4.8.1.78 in /usr/local/lib/python3.10/dist-packages (from stegano) (4.9.0.80)\n",
            "Requirement already satisfied: piexif<2.0.0,>=1.1.3 in /usr/local/lib/python3.10/dist-packages (from stegano) (1.1.3)\n",
            "Requirement already satisfied: colorama in /usr/local/lib/python3.10/dist-packages (from crayons<0.5.0,>=0.4.0->stegano) (0.4.6)\n",
            "Requirement already satisfied: numpy>=1.21.2 in /usr/local/lib/python3.10/dist-packages (from opencv-python<5.0.0.0,>=4.8.1.78->stegano) (1.23.5)\n"
          ]
        }
      ],
      "source": [
        "pip install Pillow pycryptodome stegano\n"
      ]
    },
    {
      "cell_type": "code",
      "source": [
        "from Crypto.PublicKey import RSA\n",
        "from Crypto.Cipher import PKCS1_OAEP\n",
        "from stegano import lsb\n",
        "from PIL import Image\n",
        "import base64\n",
        "\n",
        "# Generate RSA Keys\n",
        "key = RSA.generate(2048)\n",
        "private_key = key.export_key()\n",
        "public_key = key.publickey().export_key()\n",
        "\n",
        "# Function to encrypt message\n",
        "def encrypt_message(message, pub_key):\n",
        "    rsa_key = RSA.import_key(pub_key)\n",
        "    cipher = PKCS1_OAEP.new(rsa_key)\n",
        "    encrypted_message = cipher.encrypt(message.encode())\n",
        "    return base64.b64encode(encrypted_message).decode()\n",
        "\n",
        "# Function to decrypt message\n",
        "def decrypt_message(encrypted_message, priv_key):\n",
        "    rsa_key = RSA.import_key(priv_key)\n",
        "    cipher = PKCS1_OAEP.new(rsa_key)\n",
        "    decrypted_message = cipher.decrypt(base64.b64decode(encrypted_message))\n",
        "    return decrypted_message.decode()\n",
        "\n",
        "# Encrypt a message\n",
        "message = \"Secret Message\"\n",
        "encrypted_message = encrypt_message(message, public_key)\n",
        "\n",
        "# Embed the encrypted message into an image\n",
        "original_image = \"path/to/image.jpg\"  # Replace with your image path\n",
        "secret_image = \"path/to/secret_image.png\"  # Output image with secret\n",
        "image_with_secret = lsb.hide(original_image, encrypted_message)\n",
        "image_with_secret.save(secret_image)\n",
        "\n",
        "# Extract the message from the image\n",
        "extracted_message = lsb.reveal(secret_image)\n",
        "\n",
        "# Decrypt the extracted message\n",
        "decrypted_message = decrypt_message(extracted_message, private_key)\n",
        "\n",
        "print(f\"Original Message: {message}\")\n",
        "print(f\"Encrypted Message: {encrypted_message}\")\n",
        "print(f\"Decrypted Message: {decrypted_message}\")\n"
      ],
      "metadata": {
        "colab": {
          "base_uri": "https://localhost:8080/",
          "height": 391
        },
        "id": "JQ33KFthG5Um",
        "outputId": "5ee067a5-d811-4706-cee1-80d7a01d00b1"
      },
      "execution_count": 4,
      "outputs": [
        {
          "output_type": "error",
          "ename": "FileNotFoundError",
          "evalue": "[Errno 2] No such file or directory: 'path/to/image.jpg'",
          "traceback": [
            "\u001b[0;31m---------------------------------------------------------------------------\u001b[0m",
            "\u001b[0;31mFileNotFoundError\u001b[0m                         Traceback (most recent call last)",
            "\u001b[0;32m<ipython-input-4-cdca5996ca51>\u001b[0m in \u001b[0;36m<cell line: 33>\u001b[0;34m()\u001b[0m\n\u001b[1;32m     31\u001b[0m \u001b[0moriginal_image\u001b[0m \u001b[0;34m=\u001b[0m \u001b[0;34m\"path/to/image.jpg\"\u001b[0m  \u001b[0;31m# Replace with your image path\u001b[0m\u001b[0;34m\u001b[0m\u001b[0;34m\u001b[0m\u001b[0m\n\u001b[1;32m     32\u001b[0m \u001b[0msecret_image\u001b[0m \u001b[0;34m=\u001b[0m \u001b[0;34m\"path/to/secret_image.png\"\u001b[0m  \u001b[0;31m# Output image with secret\u001b[0m\u001b[0;34m\u001b[0m\u001b[0;34m\u001b[0m\u001b[0m\n\u001b[0;32m---> 33\u001b[0;31m \u001b[0mimage_with_secret\u001b[0m \u001b[0;34m=\u001b[0m \u001b[0mlsb\u001b[0m\u001b[0;34m.\u001b[0m\u001b[0mhide\u001b[0m\u001b[0;34m(\u001b[0m\u001b[0moriginal_image\u001b[0m\u001b[0;34m,\u001b[0m \u001b[0mencrypted_message\u001b[0m\u001b[0;34m)\u001b[0m\u001b[0;34m\u001b[0m\u001b[0;34m\u001b[0m\u001b[0m\n\u001b[0m\u001b[1;32m     34\u001b[0m \u001b[0mimage_with_secret\u001b[0m\u001b[0;34m.\u001b[0m\u001b[0msave\u001b[0m\u001b[0;34m(\u001b[0m\u001b[0msecret_image\u001b[0m\u001b[0;34m)\u001b[0m\u001b[0;34m\u001b[0m\u001b[0;34m\u001b[0m\u001b[0m\n\u001b[1;32m     35\u001b[0m \u001b[0;34m\u001b[0m\u001b[0m\n",
            "\u001b[0;32m/usr/local/lib/python3.10/dist-packages/stegano/lsb/lsb.py\u001b[0m in \u001b[0;36mhide\u001b[0;34m(image, message, generator, shift, encoding, auto_convert_rgb)\u001b[0m\n\u001b[1;32m     42\u001b[0m     \u001b[0mLSB\u001b[0m \u001b[0;34m(\u001b[0m\u001b[0mLeast\u001b[0m \u001b[0mSignificant\u001b[0m \u001b[0mBit\u001b[0m\u001b[0;34m)\u001b[0m \u001b[0mtechnique\u001b[0m\u001b[0;34m.\u001b[0m\u001b[0;34m\u001b[0m\u001b[0;34m\u001b[0m\u001b[0m\n\u001b[1;32m     43\u001b[0m     \"\"\"\n\u001b[0;32m---> 44\u001b[0;31m     \u001b[0mhider\u001b[0m \u001b[0;34m=\u001b[0m \u001b[0mtools\u001b[0m\u001b[0;34m.\u001b[0m\u001b[0mHider\u001b[0m\u001b[0;34m(\u001b[0m\u001b[0mimage\u001b[0m\u001b[0;34m,\u001b[0m \u001b[0mmessage\u001b[0m\u001b[0;34m,\u001b[0m \u001b[0mencoding\u001b[0m\u001b[0;34m,\u001b[0m \u001b[0mauto_convert_rgb\u001b[0m\u001b[0;34m)\u001b[0m\u001b[0;34m\u001b[0m\u001b[0;34m\u001b[0m\u001b[0m\n\u001b[0m\u001b[1;32m     45\u001b[0m     \u001b[0mwidth\u001b[0m \u001b[0;34m=\u001b[0m \u001b[0mhider\u001b[0m\u001b[0;34m.\u001b[0m\u001b[0mencoded_image\u001b[0m\u001b[0;34m.\u001b[0m\u001b[0mwidth\u001b[0m\u001b[0;34m\u001b[0m\u001b[0;34m\u001b[0m\u001b[0m\n\u001b[1;32m     46\u001b[0m \u001b[0;34m\u001b[0m\u001b[0m\n",
            "\u001b[0;32m/usr/local/lib/python3.10/dist-packages/stegano/tools.py\u001b[0m in \u001b[0;36m__init__\u001b[0;34m(self, input_image, message, encoding, auto_convert_rgb)\u001b[0m\n\u001b[1;32m    127\u001b[0m         \u001b[0;32massert\u001b[0m \u001b[0mmessage_length\u001b[0m \u001b[0;34m!=\u001b[0m \u001b[0;36m0\u001b[0m\u001b[0;34m,\u001b[0m \u001b[0;34m\"message length is zero\"\u001b[0m\u001b[0;34m\u001b[0m\u001b[0;34m\u001b[0m\u001b[0m\n\u001b[1;32m    128\u001b[0m \u001b[0;34m\u001b[0m\u001b[0m\n\u001b[0;32m--> 129\u001b[0;31m         \u001b[0mimage\u001b[0m \u001b[0;34m=\u001b[0m \u001b[0mopen_image\u001b[0m\u001b[0;34m(\u001b[0m\u001b[0minput_image\u001b[0m\u001b[0;34m)\u001b[0m\u001b[0;34m\u001b[0m\u001b[0;34m\u001b[0m\u001b[0m\n\u001b[0m\u001b[1;32m    130\u001b[0m \u001b[0;34m\u001b[0m\u001b[0m\n\u001b[1;32m    131\u001b[0m         \u001b[0;32mif\u001b[0m \u001b[0mimage\u001b[0m\u001b[0;34m.\u001b[0m\u001b[0mmode\u001b[0m \u001b[0;32mnot\u001b[0m \u001b[0;32min\u001b[0m \u001b[0;34m[\u001b[0m\u001b[0;34m\"RGB\"\u001b[0m\u001b[0;34m,\u001b[0m \u001b[0;34m\"RGBA\"\u001b[0m\u001b[0;34m]\u001b[0m\u001b[0;34m:\u001b[0m\u001b[0;34m\u001b[0m\u001b[0;34m\u001b[0m\u001b[0m\n",
            "\u001b[0;32m/usr/local/lib/python3.10/dist-packages/stegano/tools.py\u001b[0m in \u001b[0;36mopen_image\u001b[0;34m(fname_or_instance)\u001b[0m\n\u001b[1;32m    111\u001b[0m         \u001b[0;32mreturn\u001b[0m \u001b[0mfname_or_instance\u001b[0m\u001b[0;34m\u001b[0m\u001b[0;34m\u001b[0m\u001b[0m\n\u001b[1;32m    112\u001b[0m \u001b[0;34m\u001b[0m\u001b[0m\n\u001b[0;32m--> 113\u001b[0;31m     \u001b[0;32mreturn\u001b[0m \u001b[0mImage\u001b[0m\u001b[0;34m.\u001b[0m\u001b[0mopen\u001b[0m\u001b[0;34m(\u001b[0m\u001b[0mfname_or_instance\u001b[0m\u001b[0;34m)\u001b[0m\u001b[0;34m\u001b[0m\u001b[0;34m\u001b[0m\u001b[0m\n\u001b[0m\u001b[1;32m    114\u001b[0m \u001b[0;34m\u001b[0m\u001b[0m\n\u001b[1;32m    115\u001b[0m \u001b[0;34m\u001b[0m\u001b[0m\n",
            "\u001b[0;32m/usr/local/lib/python3.10/dist-packages/PIL/Image.py\u001b[0m in \u001b[0;36mopen\u001b[0;34m(fp, mode, formats)\u001b[0m\n\u001b[1;32m   3245\u001b[0m \u001b[0;34m\u001b[0m\u001b[0m\n\u001b[1;32m   3246\u001b[0m     \u001b[0;32mif\u001b[0m \u001b[0mfilename\u001b[0m\u001b[0;34m:\u001b[0m\u001b[0;34m\u001b[0m\u001b[0;34m\u001b[0m\u001b[0m\n\u001b[0;32m-> 3247\u001b[0;31m         \u001b[0mfp\u001b[0m \u001b[0;34m=\u001b[0m \u001b[0mbuiltins\u001b[0m\u001b[0;34m.\u001b[0m\u001b[0mopen\u001b[0m\u001b[0;34m(\u001b[0m\u001b[0mfilename\u001b[0m\u001b[0;34m,\u001b[0m \u001b[0;34m\"rb\"\u001b[0m\u001b[0;34m)\u001b[0m\u001b[0;34m\u001b[0m\u001b[0;34m\u001b[0m\u001b[0m\n\u001b[0m\u001b[1;32m   3248\u001b[0m         \u001b[0mexclusive_fp\u001b[0m \u001b[0;34m=\u001b[0m \u001b[0;32mTrue\u001b[0m\u001b[0;34m\u001b[0m\u001b[0;34m\u001b[0m\u001b[0m\n\u001b[1;32m   3249\u001b[0m \u001b[0;34m\u001b[0m\u001b[0m\n",
            "\u001b[0;31mFileNotFoundError\u001b[0m: [Errno 2] No such file or directory: 'path/to/image.jpg'"
          ]
        }
      ]
    }
  ]
}